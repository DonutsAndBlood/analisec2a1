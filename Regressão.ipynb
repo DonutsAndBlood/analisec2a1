{
 "cells": [
  {
   "cell_type": "code",
   "execution_count": 160,
   "metadata": {},
   "outputs": [
    {
     "name": "stdout",
     "output_type": "stream",
     "text": [
      "Angular: -1.0266652939359622\n",
      "Linear: 148.1969525378359\n",
      "y = -1.03 + 148.20x\n",
      "Para 50 anos:  96.86368784103779\n"
     ]
    }
   ],
   "source": [
    "import numpy as np\n",
    "import pandas as pd\n",
    "from sklearn.linear_model import LinearRegression\n",
    "from sklearn.metrics import r2_score, mean_squared_error, mean_absolute_error\n",
    "from sklearn.model_selection import train_test_split\n",
    "\n",
    "y = np.array([82.0, 91.0, 100.0, 68.0, 87.0, 73.0, 78.0, 80.0, 65.0, 84.0, 116.0, 76.0, 97.0, 100.0, 105.0, 77.0, 73.0, 78.0])\n",
    "x = np.array([71.0, 64.0, 43.0, 67.0, 56.0, 73.0, 68.0, 56.0, 76.0, 65.0, 45.0, 58.0, 45.0, 53.0, 49.0, 78.0, 73.0, 68.0])\n",
    "\n",
    "modelo = LinearRegression()\n",
    "modelo.fit(x.reshape(-1, 1), y)\n",
    "\n",
    "a = modelo.coef_[0]\n",
    "b = modelo.intercept_  \n",
    "\n",
    "print(\"Angular:\", a)\n",
    "print(\"Linear:\", b)\n",
    "\n",
    "print(f\"y = {a:.2f} + {b:.2f}x\")\n",
    "\n",
    "estimacao = a*50+b\n",
    "\n",
    "print(\"Para 50 anos: \",estimacao)\n"
   ]
  },
  {
   "cell_type": "code",
   "execution_count": null,
   "metadata": {},
   "outputs": [],
   "source": [
    "x = np.array([3, 5, 10, 10, 20, 20, 20, 30, 40, 50, 60, 70, 70, 80, 100, 100, 100, 120, 120, 140, 150, 180, 180, 200, 200]).reshape((-1, 1))\n",
    "y = np.array([1.5, 2.0, 6.0, 7.0, 10.0, 12.0, 15.0, 8.0, 10.0, 20.0, 20.0, 25.0, 30.0, 25.0, 40.0, 35.0, 40.0, 30.0, 40.0, 40.0, 50.0, 40.0, 50.0, 60.0, 50.0])\n",
    "\n",
    "model = LinearRegression().fit(x,y)\n",
    "\n",
    "\n",
    "a = model.coef_[0]\n",
    "b = model.intercept_\n",
    "\n",
    "print(f\"y = {a:.2f} + {b:.2f}x\")\n",
    "print(\"Quanto mais dinheiro na família mais gasto com comida\")\n",
    "\n",
    "lista = [55,90,250,300,450]\n",
    "\n",
    "for i in range(len(lista)):\n",
    "    resultado = a*lista[i]+b\n",
    "    print(\"Para dinheiro=\",lista[i],\"resultado é:\",resultado)"
   ]
  },
  {
   "cell_type": "code",
   "execution_count": null,
   "metadata": {},
   "outputs": [],
   "source": [
    "horas_sem_dormir = np.array([8, 8, 12, 12, 16, 16, 20, 20, 24, 24])\n",
    "erros = np.array([6, 8, 6, 10, 8, 14, 12, 14, 12, 16])\n",
    "\n",
    "model.fit(horas_sem_dormir.reshape(-1, 1), erros)\n",
    "\n",
    "a = model.coef_[0]\n",
    "b = model.intercept_\n",
    "\n",
    "print(f\"y = {a:.2f} + {b:.2f}x\")\n",
    "\n",
    "lista = [2,6,18,25,30]\n",
    "\n",
    "for i in range(len(lista)):\n",
    "    resultado = a*lista[i]+b\n",
    "    print(\"Para horas=\",lista[i],\"erros são:\",resultado)"
   ]
  },
  {
   "cell_type": "code",
   "execution_count": null,
   "metadata": {},
   "outputs": [],
   "source": [
    "print(\"Opção C, pois maximiza o faturamento bruto.\")\n",
    "print(\"Equação: y = 83.23 + 2.29*tv + 1.30*j\")\n",
    "tv = 3500.00\n",
    "j = 1800.00\n",
    "y = 83.23 + 2.29*tv + 1.30*j\n",
    "\n",
    "print(\"Estimativa de faturamento: \",y)\n"
   ]
  },
  {
   "cell_type": "code",
   "execution_count": null,
   "metadata": {},
   "outputs": [],
   "source": [
    "mes = np.array([1,2,3,4,5,6,7,8,9,10,11,12])\n",
    "custo = np.array([52.95,71.66,85.56,63.69,72.81,68.44,52.46,70.77,82.03,74.39,70.84,54.08])\n",
    "vendas = np.array([386,446,512,401,457,458,301,484,517,503,535,553])\n",
    "pedidos = np.array([4015,3806,5309,4262,4296,4097,3213,4809,5237,4732,4413,2921])\n",
    "\n",
    "x = np.column_stack((mes, custo))\n",
    "\n",
    "model.fit(x, vendas)\n",
    "\n",
    "print('Coeficientes estimados: ', model.coef_)\n",
    "print('Intercepto estimado: ', model.intercept_)\n",
    "\n",
    "x = np.column_stack((vendas, pedidos))\n",
    "regressor = LinearRegression().fit(x, custo)\n",
    "\n",
    "novas_vendas = 400\n",
    "novos_pedidos = 4500\n",
    "novos_dados = np.array([novas_vendas, novos_pedidos]).reshape(1,-1)\n",
    "custo_previsto = regressor.predict(novos_dados)\n",
    "\n",
    "print(\"Custo previsto:\", round(custo_previsto[0], 2))\n",
    "\n",
    "y_pred = regressor.predict(x)\n",
    "\n",
    "\n",
    "r2 = r2_score(y, y_pred)\n",
    "mse = mean_squared_error(y, y_pred)\n",
    "\n",
    "print(\"R2:\", r2)\n",
    "print(\"MSE:\", mse)\n",
    "\n",
    "print(\"Modelo é relativamente ruim, alto nível de R2, porém baixo MSE\")"
   ]
  },
  {
   "cell_type": "code",
   "execution_count": 163,
   "metadata": {},
   "outputs": [
    {
     "name": "stdout",
     "output_type": "stream",
     "text": [
      "R2:  0.011921483873530425\n",
      "MSE:  13.041118377289067\n",
      "MAE: 2.9142806560719605\n",
      "Modelo não é muito bom\n"
     ]
    }
   ],
   "source": [
    "df = pd.read_csv('datasets\\Behavior of the urban traffic of the city of Sao Paulo in Brazil.csv', sep=';', encoding='latin1')\n",
    "\n",
    "\n",
    "x = df[['Hour (Coded)', 'Immobilized bus', 'Broken Truck', 'Vehicle excess', 'Accident victim']]\n",
    "y = df['Slowness in traffic (%)']\n",
    "\n",
    "x_train, x_test, y_train, y_test = train_test_split(x, y, test_size=0.2, random_state=42)\n",
    "\n",
    "y_train = y_train.str.replace(',', '.').astype(float)\n",
    "model.fit(x_train, y_train)\n",
    "\n",
    "y_pred = model.predict(x_test)\n",
    "\n",
    "y_test = y_test.str.replace(',', '.').astype(float)\n",
    "\n",
    "mae = mean_absolute_error(y_test, y_pred)\n",
    "\n",
    "print(\"R2: \", r2_score(y_test, y_pred))\n",
    "print(\"MSE: \", mean_squared_error(y_test, y_pred))\n",
    "print(\"MAE:\", mae)\n",
    "print(\"Modelo não é muito bom\")"
   ]
  },
  {
   "cell_type": "code",
   "execution_count": 143,
   "metadata": {},
   "outputs": [
    {
     "name": "stdout",
     "output_type": "stream",
     "text": [
      "R2:  0.9301046431962188\n",
      "MSE:  20.27370599968744\n"
     ]
    }
   ],
   "source": [
    "df = pd.read_excel('datasets\\Folds5x2_pp.xlsx')\n",
    "\n",
    "x = df[['AT', 'V', 'AP', 'RH']]\n",
    "y = df['PE']\n",
    "\n",
    "\n",
    "x_train, x_test, y_train, y_test = train_test_split(x, y, test_size=0.2, random_state=42)\n",
    "\n",
    "model.fit(x_train, y_train)\n",
    "\n",
    "y_pred = model.predict(x_test)\n",
    "\n",
    "r2 = r2_score(y_test, y_pred)\n",
    "mse = mean_squared_error(y_test, y_pred)\n",
    "mae = mean_absolute_error(y_test, y_pred)\n",
    "\n",
    "print('R2:', r2)\n",
    "print('MSE:', mse)\n",
    "print(\"MAE:\", mae)\n",
    "print(\"Modelo relativamente bom\")"
   ]
  },
  {
   "cell_type": "code",
   "execution_count": 162,
   "metadata": {},
   "outputs": [
    {
     "name": "stdout",
     "output_type": "stream",
     "text": [
      "R2: 0.6275531792314846\n",
      "MSE: 95.97094009110691\n",
      "MAE: 7.745559243921435\n",
      "Modelo relativamente bom\n"
     ]
    }
   ],
   "source": [
    "df = pd.read_csv('datasets\\Concrete_Data_Yeh.csv', sep=',', encoding='latin1')\n",
    "\n",
    "\n",
    "x = df[['cement','slag','flyash','water','superplasticizer','coarseaggregate','fineaggregate','age']]\n",
    "y = df['csMPa']\n",
    "x_train, x_test, y_train, y_test = train_test_split(x, y, test_size=0.2, random_state=42)\n",
    "\n",
    "model.fit(x_train, y_train)\n",
    "\n",
    "y_pred = regressor.predict(x_test)\n",
    "\n",
    "r2 = r2_score(y_test, y_pred)\n",
    "mse = mean_squared_error(y_test, y_pred)\n",
    "mae = mean_absolute_error(y_test, y_pred)\n",
    "\n",
    "print('R2:', r2)\n",
    "print('MSE:', mse)\n",
    "print(\"MAE:\", mae)\n",
    "print(\"Modelo relativamente bom\")"
   ]
  }
 ],
 "metadata": {
  "kernelspec": {
   "display_name": "Python 3",
   "language": "python",
   "name": "python3"
  },
  "language_info": {
   "codemirror_mode": {
    "name": "ipython",
    "version": 3
   },
   "file_extension": ".py",
   "mimetype": "text/x-python",
   "name": "python",
   "nbconvert_exporter": "python",
   "pygments_lexer": "ipython3",
   "version": "3.9.6"
  },
  "orig_nbformat": 4
 },
 "nbformat": 4,
 "nbformat_minor": 2
}
