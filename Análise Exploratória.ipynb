{
 "cells": [
  {
   "cell_type": "code",
   "execution_count": 1,
   "id": "4a2f95a7",
   "metadata": {},
   "outputs": [],
   "source": [
    "import pandas as pd\n",
    "import numpy as np\n",
    "import statistics as stats\n",
    "import scipy.stats as cstats\n",
    "import matplotlib.pyplot as plt"
   ]
  },
  {
   "cell_type": "code",
   "execution_count": 2,
   "id": "3f1a8abe",
   "metadata": {},
   "outputs": [
    {
     "name": "stdout",
     "output_type": "stream",
     "text": [
      "    Empresa  Meses Setor Tamanho\n",
      "0         1      8     C       G\n",
      "1         2      9     C       M\n",
      "2         3      4     I       G\n",
      "3         4      5     I       M\n",
      "4         5      3     I       M\n",
      "5         6      6     C       P\n",
      "6         7      8     C       G\n",
      "7         8      6     I       M\n",
      "8         9      6     I       P\n",
      "9        10      8     C       M\n",
      "10       11      5     C       P\n",
      "11       12      5     I       P\n",
      "12       13      6     C       M\n",
      "13       14      4     I       M\n",
      "14       15      4     I       G\n"
     ]
    }
   ],
   "source": [
    "dados = {'Empresa': [1, 2, 3, 4, 5, 6, 7, 8, 9, 10, 11, 12, 13, 14, 15],\n",
    "         'Meses': [8, 9, 4, 5, 3, 6, 8, 6, 6, 8, 5, 5, 6, 4, 4],\n",
    "         'Setor': ['C', 'C', 'I', 'I', 'I', 'C', 'C', 'I', 'I', 'C', 'C', 'I', 'C', 'I', 'I'],\n",
    "         'Tamanho': ['G', 'M', 'G', 'M', 'M', 'P', 'G', 'M', 'P', 'M', 'P', 'P', 'M', 'M', 'G']}\n",
    "\n",
    "df = pd.DataFrame(dados)\n",
    "print(df)"
   ]
  },
  {
   "cell_type": "code",
   "execution_count": 3,
   "id": "056c65f5",
   "metadata": {},
   "outputs": [
    {
     "name": "stdout",
     "output_type": "stream",
     "text": [
      "Comércio:\n",
      "7.142857142857143\n",
      "4.5\n",
      "--------\n",
      "Indústria:\n",
      "4.625\n",
      "4.5\n"
     ]
    }
   ],
   "source": [
    "grupo_comercio = df[df['Setor'] == 'C']\n",
    "grupo_industria = industria = df[df['Setor'] == 'I']\n",
    "\n",
    "media_comercio = grupo_comercio['Meses'].mean()\n",
    "mediana_comercio = grupo_industria['Meses'].median()\n",
    "\n",
    "print('Comércio:')\n",
    "print(media_comercio)\n",
    "print(mediana_comercio)\n",
    "\n",
    "print(\"--------\")\n",
    "print('Indústria:')\n",
    "media_industria = grupo_industria['Meses'].mean()\n",
    "mediana_industria = grupo_industria['Meses'].median()\n",
    "\n",
    "print(media_industria)\n",
    "print(mediana_industria)"
   ]
  },
  {
   "cell_type": "code",
   "execution_count": 4,
   "id": "2fbdd08a",
   "metadata": {},
   "outputs": [
    {
     "name": "stdout",
     "output_type": "stream",
     "text": [
      "Comércio:\n",
      "Variância: 2.142857142857143\n",
      "Desvio padrão: 1.4638501094227998\n",
      "-------\n",
      "Indústria:\n",
      "Variância: 1.125\n",
      "Desvio padrão: 1.0606601717798212\n",
      "Grupo industrial possui melhores resultados\n"
     ]
    }
   ],
   "source": [
    "variancia_comercio = grupo_comercio['Meses'].var()\n",
    "variancia_industria = grupo_industria['Meses'].var()\n",
    "\n",
    "desvio_comercio = grupo_comercio['Meses'].std()\n",
    "desvio_industria = grupo_industria['Meses'].std()\n",
    "\n",
    "print('Comércio:')\n",
    "print('Variância:', variancia_comercio)\n",
    "print('Desvio padrão:', desvio_comercio)\n",
    "print(\"-------\")\n",
    "print('Indústria:')\n",
    "print('Variância:', variancia_industria)\n",
    "print('Desvio padrão:', desvio_industria)\n",
    "\n",
    "print(\"Grupo industrial possui melhores resultados\")"
   ]
  },
  {
   "cell_type": "code",
   "execution_count": 5,
   "id": "9e34676d",
   "metadata": {},
   "outputs": [
    {
     "name": "stdout",
     "output_type": "stream",
     "text": [
      "Pequenas empresas:\n",
      "Média: 5.5\n",
      "Mediana: 5.5\n",
      "Desvio padrão: 0.5773502691896257\n",
      "Variância: 0.3333333333333333\n",
      "------\n",
      "Médias empresas:\n",
      "Média: 5.857142857142857\n",
      "Mediana: 6.0\n",
      "Desvio padrão: 2.115700942049815\n",
      "Variância: 4.476190476190475\n",
      "------\n",
      "Grandes empresas:\n",
      "Média: 6.0\n",
      "Mediana: 6.0\n",
      "Desvio padrão: 2.309401076758503\n",
      "Variância: 5.333333333333333\n",
      "Quanto maior a empresa mais tempo de aumento\n"
     ]
    }
   ],
   "source": [
    "media_pequenas = df[df['Tamanho'] == 'P']['Meses'].mean()\n",
    "media_medias = df[df['Tamanho'] == 'M']['Meses'].mean()\n",
    "media_grandes = df[df['Tamanho'] == 'G']['Meses'].mean()\n",
    "\n",
    "mediana_pequenas = df[df['Tamanho'] == 'P']['Meses'].median()\n",
    "mediana_medias = df[df['Tamanho'] == 'M']['Meses'].median()\n",
    "mediana_grandes = df[df['Tamanho'] == 'G']['Meses'].median()\n",
    "\n",
    "desvio_pequenas = df[df['Tamanho'] == 'P']['Meses'].std()\n",
    "desvio_medias = df[df['Tamanho'] == 'M']['Meses'].std()\n",
    "desvio_grandes = df[df['Tamanho'] == 'G']['Meses'].std()\n",
    "\n",
    "variancia_pequenas = df[df['Tamanho'] == 'P']['Meses'].var()\n",
    "variancia_medias = df[df['Tamanho'] == 'M']['Meses'].var()\n",
    "variancia_grandes = df[df['Tamanho'] == 'G']['Meses'].var()\n",
    "\n",
    "print('Pequenas empresas:')\n",
    "print('Média:', media_pequenas)\n",
    "print('Mediana:', mediana_pequenas)\n",
    "print('Desvio padrão:', desvio_pequenas)\n",
    "print('Variância:', variancia_pequenas)\n",
    "print(\"------\")\n",
    "print('Médias empresas:')\n",
    "print('Média:', media_medias)\n",
    "print('Mediana:', mediana_medias)\n",
    "print('Desvio padrão:', desvio_medias)\n",
    "print('Variância:', variancia_medias)\n",
    "print(\"------\")\n",
    "print('Grandes empresas:')\n",
    "print('Média:', media_grandes)\n",
    "print('Mediana:', mediana_grandes)\n",
    "print('Desvio padrão:', desvio_grandes)\n",
    "print('Variância:', variancia_grandes)\n",
    "\n",
    "print(\"Quanto maior a empresa mais tempo de aumento\")"
   ]
  },
  {
   "cell_type": "code",
   "execution_count": 6,
   "id": "2f513a3b",
   "metadata": {},
   "outputs": [
    {
     "data": {
      "text/html": [
       "<div>\n",
       "<style scoped>\n",
       "    .dataframe tbody tr th:only-of-type {\n",
       "        vertical-align: middle;\n",
       "    }\n",
       "\n",
       "    .dataframe tbody tr th {\n",
       "        vertical-align: top;\n",
       "    }\n",
       "\n",
       "    .dataframe thead th {\n",
       "        text-align: right;\n",
       "    }\n",
       "</style>\n",
       "<table border=\"1\" class=\"dataframe\">\n",
       "  <thead>\n",
       "    <tr style=\"text-align: right;\">\n",
       "      <th></th>\n",
       "      <th>Empresa</th>\n",
       "      <th>Meses</th>\n",
       "      <th>Setor</th>\n",
       "      <th>Tamanho</th>\n",
       "    </tr>\n",
       "  </thead>\n",
       "  <tbody>\n",
       "    <tr>\n",
       "      <th>0</th>\n",
       "      <td>1</td>\n",
       "      <td>8</td>\n",
       "      <td>C</td>\n",
       "      <td>G</td>\n",
       "    </tr>\n",
       "    <tr>\n",
       "      <th>1</th>\n",
       "      <td>2</td>\n",
       "      <td>9</td>\n",
       "      <td>C</td>\n",
       "      <td>M</td>\n",
       "    </tr>\n",
       "    <tr>\n",
       "      <th>2</th>\n",
       "      <td>3</td>\n",
       "      <td>4</td>\n",
       "      <td>I</td>\n",
       "      <td>G</td>\n",
       "    </tr>\n",
       "    <tr>\n",
       "      <th>3</th>\n",
       "      <td>4</td>\n",
       "      <td>5</td>\n",
       "      <td>I</td>\n",
       "      <td>M</td>\n",
       "    </tr>\n",
       "    <tr>\n",
       "      <th>4</th>\n",
       "      <td>5</td>\n",
       "      <td>3</td>\n",
       "      <td>I</td>\n",
       "      <td>M</td>\n",
       "    </tr>\n",
       "    <tr>\n",
       "      <th>5</th>\n",
       "      <td>6</td>\n",
       "      <td>6</td>\n",
       "      <td>C</td>\n",
       "      <td>P</td>\n",
       "    </tr>\n",
       "    <tr>\n",
       "      <th>6</th>\n",
       "      <td>7</td>\n",
       "      <td>8</td>\n",
       "      <td>C</td>\n",
       "      <td>G</td>\n",
       "    </tr>\n",
       "    <tr>\n",
       "      <th>7</th>\n",
       "      <td>8</td>\n",
       "      <td>6</td>\n",
       "      <td>I</td>\n",
       "      <td>M</td>\n",
       "    </tr>\n",
       "    <tr>\n",
       "      <th>8</th>\n",
       "      <td>9</td>\n",
       "      <td>6</td>\n",
       "      <td>I</td>\n",
       "      <td>P</td>\n",
       "    </tr>\n",
       "    <tr>\n",
       "      <th>9</th>\n",
       "      <td>10</td>\n",
       "      <td>8</td>\n",
       "      <td>C</td>\n",
       "      <td>M</td>\n",
       "    </tr>\n",
       "    <tr>\n",
       "      <th>10</th>\n",
       "      <td>11</td>\n",
       "      <td>5</td>\n",
       "      <td>C</td>\n",
       "      <td>P</td>\n",
       "    </tr>\n",
       "    <tr>\n",
       "      <th>11</th>\n",
       "      <td>12</td>\n",
       "      <td>5</td>\n",
       "      <td>I</td>\n",
       "      <td>P</td>\n",
       "    </tr>\n",
       "    <tr>\n",
       "      <th>12</th>\n",
       "      <td>13</td>\n",
       "      <td>6</td>\n",
       "      <td>C</td>\n",
       "      <td>M</td>\n",
       "    </tr>\n",
       "    <tr>\n",
       "      <th>13</th>\n",
       "      <td>14</td>\n",
       "      <td>4</td>\n",
       "      <td>I</td>\n",
       "      <td>M</td>\n",
       "    </tr>\n",
       "    <tr>\n",
       "      <th>14</th>\n",
       "      <td>15</td>\n",
       "      <td>4</td>\n",
       "      <td>I</td>\n",
       "      <td>G</td>\n",
       "    </tr>\n",
       "  </tbody>\n",
       "</table>\n",
       "</div>"
      ],
      "text/plain": [
       "    Empresa  Meses Setor Tamanho\n",
       "0         1      8     C       G\n",
       "1         2      9     C       M\n",
       "2         3      4     I       G\n",
       "3         4      5     I       M\n",
       "4         5      3     I       M\n",
       "5         6      6     C       P\n",
       "6         7      8     C       G\n",
       "7         8      6     I       M\n",
       "8         9      6     I       P\n",
       "9        10      8     C       M\n",
       "10       11      5     C       P\n",
       "11       12      5     I       P\n",
       "12       13      6     C       M\n",
       "13       14      4     I       M\n",
       "14       15      4     I       G"
      ]
     },
     "execution_count": 6,
     "metadata": {},
     "output_type": "execute_result"
    }
   ],
   "source": [
    "grupo1 = {'idade':[40, 45, 50,],\n",
    "         'peso' : [55, 50, 70, 65, 58, 77, 60, 78, 72, 76, 74, 68, 65, 70, 83, 82, 70, 72, 83, 72, 80, 82, 85, 63, 82, 62, 74, 80, 76, 80]}\n",
    "\n",
    "df = pd.DataFrame(dados)\n",
    "df"
   ]
  },
  {
   "cell_type": "code",
   "execution_count": 7,
   "id": "c429ba48",
   "metadata": {},
   "outputs": [
    {
     "name": "stdout",
     "output_type": "stream",
     "text": [
      "Tendência de aumento de peso com idade\n"
     ]
    },
    {
     "data": {
      "text/html": [
       "<div>\n",
       "<style scoped>\n",
       "    .dataframe tbody tr th:only-of-type {\n",
       "        vertical-align: middle;\n",
       "    }\n",
       "\n",
       "    .dataframe tbody tr th {\n",
       "        vertical-align: top;\n",
       "    }\n",
       "\n",
       "    .dataframe thead th {\n",
       "        text-align: right;\n",
       "    }\n",
       "</style>\n",
       "<table border=\"1\" class=\"dataframe\">\n",
       "  <thead>\n",
       "    <tr style=\"text-align: right;\">\n",
       "      <th></th>\n",
       "      <th>média</th>\n",
       "      <th>mediana</th>\n",
       "      <th>desvios_padrao</th>\n",
       "      <th>variancias</th>\n",
       "    </tr>\n",
       "    <tr>\n",
       "      <th>idade</th>\n",
       "      <th></th>\n",
       "      <th></th>\n",
       "      <th></th>\n",
       "      <th></th>\n",
       "    </tr>\n",
       "  </thead>\n",
       "  <tbody>\n",
       "    <tr>\n",
       "      <th>40</th>\n",
       "      <td>60.0</td>\n",
       "      <td>62.0</td>\n",
       "      <td>7.382412</td>\n",
       "      <td>43.60</td>\n",
       "    </tr>\n",
       "    <tr>\n",
       "      <th>45</th>\n",
       "      <td>60.8</td>\n",
       "      <td>62.0</td>\n",
       "      <td>3.701351</td>\n",
       "      <td>10.96</td>\n",
       "    </tr>\n",
       "    <tr>\n",
       "      <th>50</th>\n",
       "      <td>71.6</td>\n",
       "      <td>74.0</td>\n",
       "      <td>7.127412</td>\n",
       "      <td>40.64</td>\n",
       "    </tr>\n",
       "    <tr>\n",
       "      <th>55</th>\n",
       "      <td>75.4</td>\n",
       "      <td>77.0</td>\n",
       "      <td>4.219005</td>\n",
       "      <td>14.24</td>\n",
       "    </tr>\n",
       "    <tr>\n",
       "      <th>60</th>\n",
       "      <td>77.6</td>\n",
       "      <td>76.0</td>\n",
       "      <td>6.268971</td>\n",
       "      <td>31.44</td>\n",
       "    </tr>\n",
       "    <tr>\n",
       "      <th>65</th>\n",
       "      <td>76.2</td>\n",
       "      <td>80.0</td>\n",
       "      <td>7.496666</td>\n",
       "      <td>44.96</td>\n",
       "    </tr>\n",
       "  </tbody>\n",
       "</table>\n",
       "</div>"
      ],
      "text/plain": [
       "       média  mediana  desvios_padrao  variancias\n",
       "idade                                            \n",
       "40      60.0     62.0        7.382412       43.60\n",
       "45      60.8     62.0        3.701351       10.96\n",
       "50      71.6     74.0        7.127412       40.64\n",
       "55      75.4     77.0        4.219005       14.24\n",
       "60      77.6     76.0        6.268971       31.44\n",
       "65      76.2     80.0        7.496666       44.96"
      ]
     },
     "execution_count": 7,
     "metadata": {},
     "output_type": "execute_result"
    }
   ],
   "source": [
    "grupo1 = {'idade':[40, 45, 50,55,60,65],\n",
    "         'peso':[[55,50,68,65,62],[58,56,62,65,63],[60,74,70,78,76],[77,78,70,72,80],[70,76,74,83,85],[65,82,72,82,80]]}\n",
    "\n",
    "grupo1 = pd.DataFrame(grupo1)\n",
    "\n",
    "grupo1 = grupo1.explode('peso')\n",
    "grupo1['peso'] = grupo1['peso'].astype(int)\n",
    "\n",
    "\n",
    "\n",
    "medias = grupo1.groupby('idade').mean()\n",
    "medianas = grupo1.groupby('idade').median()\n",
    "desvios_padrao = grupo1.groupby('idade').apply(lambda x: stats.stdev(x['peso']))\n",
    "variancias = grupo1.groupby('idade').apply(lambda x: np.var(x['peso']))\n",
    "\n",
    "resultados = pd.concat([medias, medianas,desvios_padrao,variancias], axis=1)\n",
    "resultados.columns = ['média', 'mediana','desvios_padrao','variancias']\n",
    "\n",
    "print(\"Tendência de aumento de peso com idade\")\n",
    "resultados\n"
   ]
  },
  {
   "cell_type": "code",
   "execution_count": 8,
   "id": "89a0f8dd",
   "metadata": {},
   "outputs": [
    {
     "name": "stdout",
     "output_type": "stream",
     "text": [
      "      média  mediana  desvios_padrao  variancias\n",
      "T                                               \n",
      "M  4.310000      4.3        0.619049    0.344900\n",
      "T  3.354545      3.2        0.740761    0.498843\n",
      "      média  mediana  desvios_padrao  variancias\n",
      "Z                                               \n",
      "M  3.488889      3.4        0.849183    0.640988\n",
      "N  3.980000      4.1        0.661060    0.349600\n",
      "T  4.100000      3.9        0.869866    0.648571\n"
     ]
    },
    {
     "name": "stderr",
     "output_type": "stream",
     "text": [
      "C:\\Users\\Orlisio\\AppData\\Local\\Temp\\ipykernel_8484\\2271053475.py:7: FutureWarning: The default value of numeric_only in DataFrameGroupBy.mean is deprecated. In a future version, numeric_only will default to False. Either specify numeric_only or select only columns which should be valid for the function.\n",
      "  medias = dados.groupby('T').mean()\n",
      "C:\\Users\\Orlisio\\AppData\\Local\\Temp\\ipykernel_8484\\2271053475.py:8: FutureWarning: The default value of numeric_only in DataFrameGroupBy.median is deprecated. In a future version, numeric_only will default to False. Either specify numeric_only or select only columns which should be valid for the function.\n",
      "  medianas = dados.groupby('T').median()\n",
      "C:\\Users\\Orlisio\\AppData\\Local\\Temp\\ipykernel_8484\\2271053475.py:17: FutureWarning: The default value of numeric_only in DataFrameGroupBy.mean is deprecated. In a future version, numeric_only will default to False. Either specify numeric_only or select only columns which should be valid for the function.\n",
      "  medias = dados.groupby('Z').mean()\n",
      "C:\\Users\\Orlisio\\AppData\\Local\\Temp\\ipykernel_8484\\2271053475.py:18: FutureWarning: The default value of numeric_only in DataFrameGroupBy.median is deprecated. In a future version, numeric_only will default to False. Either specify numeric_only or select only columns which should be valid for the function.\n",
      "  medianas = dados.groupby('Z').median()\n"
     ]
    }
   ],
   "source": [
    "dados = {'S': [4.5,5,4.2,3.7,3.9,4.1,2.9,2.7,3.5,3.2,4.7,5.5,4.8,3.4,4.2,3.4,4.4,3.7,2.8,2.5,2.9],\n",
    "         'T': ['M','T','M','M','T','T','T','T','T','T','M','M','M','T','M','M','M','M','T','T','T'],\n",
    "         'Z': ['N','M','M','M','T','N','M','M','T','N','N','T','T','M','M','N','T','T','M','M','T']}\n",
    "\n",
    "dados = pd.DataFrame(dados)\n",
    "\n",
    "medias = dados.groupby('T').mean()\n",
    "medianas = dados.groupby('T').median()\n",
    "desvios_padrao = dados.groupby('T').apply(lambda x: stats.stdev(x['S']))\n",
    "variancias = dados.groupby('T').apply(lambda x: np.var(x['S']))\n",
    "\n",
    "resultados = pd.concat([medias, medianas,desvios_padrao,variancias], axis=1)\n",
    "resultados.columns = ['média', 'mediana','desvios_padrao','variancias']\n",
    "\n",
    "print(resultados)\n",
    "\n",
    "medias = dados.groupby('Z').mean()\n",
    "medianas = dados.groupby('Z').median()\n",
    "desvios_padrao = dados.groupby('Z').apply(lambda x: stats.stdev(x['S']))\n",
    "variancias = dados.groupby('Z').apply(lambda x: np.var(x['S']))\n",
    "\n",
    "resultados = pd.concat([medias, medianas,desvios_padrao,variancias], axis=1)\n",
    "resultados.columns = ['média', 'mediana','desvios_padrao','variancias']\n",
    "\n",
    "print(resultados)"
   ]
  },
  {
   "cell_type": "code",
   "execution_count": 9,
   "id": "ef40f168",
   "metadata": {},
   "outputs": [
    {
     "name": "stdout",
     "output_type": "stream",
     "text": [
      "1º quartil:\n",
      "2.75\n",
      "2º quartil:\n",
      "3.15\n",
      "3º quartil:\n",
      "3.35\n"
     ]
    },
    {
     "data": {
      "image/png": "[encoded data removed]",
      "text/plain": [
       "<Figure size 640x480 with 1 Axes>"
      ]
     },
     "metadata": {},
     "output_type": "display_data"
    }
   ],
   "source": [
    "df = {\n",
    "    'Limite inferior': [2.35, 2.55, 2.75, 2.95, 3.15, 3.35],\n",
    "    'Limite superior': [2.55, 2.75, 2.95, 3.15, 3.35, 3.55],\n",
    "    'Frequência': [1, 3, 2, 4, 5, 6]\n",
    "}\n",
    "\n",
    "df = pd.DataFrame(df)\n",
    "\n",
    "df['Contagem acumulada'] = df['Frequência'].cumsum()\n",
    "\n",
    "q1 = df['Limite inferior'][df['Contagem acumulada'] >= df['Frequência'].sum() / 4].iloc[0]\n",
    "q2 = df['Limite inferior'][df['Contagem acumulada'] >= df['Frequência'].sum() / 2].iloc[0]\n",
    "q3 = df['Limite inferior'][df['Contagem acumulada'] >= 3 * df['Frequência'].sum() / 4].iloc[0]\n",
    "\n",
    "print('1º quartil:')\n",
    "print(q1)\n",
    "print('2º quartil:')\n",
    "print(q2)\n",
    "print('3º quartil:')\n",
    "print(q3)\n",
    "\n",
    "plt.hist(df['Limite inferior'], bins=df['Limite inferior'].tolist() + [df['Limite superior'].iloc[-1]], weights=df['Frequência'], alpha=0.5, edgecolor='black', linewidth=1.2)\n",
    "\n",
    "plt.xlabel('Nível de potássio no plasma')\n",
    "plt.ylabel('Frequência')\n",
    "plt.title('Histograma dos níveis de potássio no plasma')\n",
    "\n",
    "plt.show()"
   ]
  },
  {
   "cell_type": "code",
   "execution_count": 10,
   "id": "c4de92b1",
   "metadata": {},
   "outputs": [
    {
     "data": {
      "image/png": "[encoded data removed]",
      "text/plain": [
       "<Figure size 640x480 with 1 Axes>"
      ]
     },
     "metadata": {},
     "output_type": "display_data"
    },
    {
     "name": "stdout",
     "output_type": "stream",
     "text": [
      "Ensino médio mais tempo na TV\n"
     ]
    }
   ],
   "source": [
    "data= {\n",
    "    'Tempo': ['300-400', '400-500', '500-600', '600-700', '700-800', '800-900', '900-1000', '1000-1100', '1100-1200'],\n",
    "    'Estudantes': [14, 46, 58, 76, 68, 62, 48, 22, 6]}\n",
    "\n",
    "df = pd.DataFrame(data)\n",
    "\n",
    "\n",
    "plt.bar(df['Tempo'], df['Estudantes'], color='blue')\n",
    "\n",
    "\n",
    "plt.title('Distribuição de Frequência por Tempo')\n",
    "plt.xlabel('Tempo')\n",
    "plt.ylabel('Nº de Estudantes')\n",
    "plt.show()\n",
    "\n",
    "array_numeros = np.array([350, 560, 580, 710, 945, 880, 760, 640, 660, 820, 775, 910, 920, 850, 810, 790, 890, 685, 730, 850, 745, 640, 1010, 420, 770, 850, 915, 840, 930, 895])\n",
    "\n",
    "media = array_numeros.mean()\n",
    "\n",
    "media\n",
    "\n",
    "print(\"Ensino médio mais tempo na TV\")"
   ]
  },
  {
   "cell_type": "code",
   "execution_count": 11,
   "id": "caf6af98",
   "metadata": {},
   "outputs": [
    {
     "name": "stdout",
     "output_type": "stream",
     "text": [
      "Antes do treino:\n",
      "Média\n",
      "771.0\n",
      "Mediana\n",
      "82.0\n",
      "Quartil\n",
      "      Limite inferior  Limite superior  TreinoA\n",
      "0.25              2.5              5.0     16.0\n",
      "0.50              6.0             10.0     82.0\n",
      "0.75             11.0             15.0    182.5\n",
      "\n",
      "\n",
      "\n",
      "Após do treino:\n",
      "Média\n",
      "771.0\n",
      "Mediana\n",
      "129.5\n",
      "Quartil\n",
      "      Limite inferior  Limite superior  TreinoB\n",
      "0.25              2.5              5.0    52.25\n",
      "0.50              6.0             10.0   129.50\n",
      "0.75             11.0             15.0   194.75\n",
      "Alunos obtiveram melhores médias após os 2 meses\n"
     ]
    }
   ],
   "source": [
    "df1 = {\n",
    "    'Limite inferior': [0,2,4,8,12,16],\n",
    "    'Limite superior': [2,4,8,12,16,22],\n",
    "    'TreinoA': [442,200,130,34,10,3]\n",
    "}\n",
    "\n",
    "df2 = {\n",
    "    'Limite inferior': [0,2,4,8,12,16],\n",
    "    'Limite superior': [2,4,8,12,16,22],\n",
    "    'TreinoB': [80,200,280,179,43,8]\n",
    "}\n",
    "\n",
    "\n",
    "df1 = pd.DataFrame(df1)\n",
    "df2 = pd.DataFrame(df2)\n",
    "\n",
    "medias = df1['TreinoA'].mean()\n",
    "medianas = df1['TreinoA'].median()\n",
    "\n",
    "print(\"Antes do treino:\")\n",
    "print(\"Média\")\n",
    "print(media)\n",
    "print(\"Mediana\")\n",
    "print(medianas)\n",
    "print(\"Quartil\")\n",
    "print(df1.quantile([0.25, 0.5, 0.75]))\n",
    "\n",
    "medias = df2['TreinoB'].mean()\n",
    "medianas = df2['TreinoB'].median()\n",
    "\n",
    "\n",
    "print(\"\\n\\n\\nApós do treino:\")\n",
    "print(\"Média\")\n",
    "print(media)\n",
    "print(\"Mediana\")\n",
    "print(medianas)\n",
    "print(\"Quartil\")\n",
    "print(df2.quantile([0.25, 0.5, 0.75]))\n",
    "\n",
    "print(\"Alunos obtiveram melhores médias após os 2 meses\")\n"
   ]
  },
  {
   "cell_type": "code",
   "execution_count": 12,
   "id": "2b88e882",
   "metadata": {},
   "outputs": [
    {
     "data": {
      "image/png": "[encoded data removed]",
      "text/plain": [
       "<Figure size 640x480 with 1 Axes>"
      ]
     },
     "metadata": {},
     "output_type": "display_data"
    }
   ],
   "source": [
    "rendas = [2.90, 2.90, 2.95, 2.95, 3.10, 3.10, 3.15, 3.20, 3.20, 3.25, 3.30, 3.40, \n",
    "          3.45, 3.45, 3.50, 3.65, 3.65, 3.80, 3.90, 3.90, 4.00, 5.00, 5.20, 5.50, 6.40]\n",
    "\n",
    "plt.boxplot(rendas)\n",
    "plt.title('Rendas Mensais')\n",
    "plt.ylabel('Rendas(em milhares)')\n",
    "plt.show()          "
   ]
  },
  {
   "cell_type": "code",
   "execution_count": 13,
   "id": "333d95c9",
   "metadata": {},
   "outputs": [
    {
     "data": {
      "image/png": "[encoded data removed]",
      "text/plain": [
       "<Figure size 640x480 with 1 Axes>"
      ]
     },
     "metadata": {},
     "output_type": "display_data"
    },
    {
     "data": {
      "text/html": [
       "<div>\n",
       "<style scoped>\n",
       "    .dataframe tbody tr th:only-of-type {\n",
       "        vertical-align: middle;\n",
       "    }\n",
       "\n",
       "    .dataframe tbody tr th {\n",
       "        vertical-align: top;\n",
       "    }\n",
       "\n",
       "    .dataframe thead th {\n",
       "        text-align: right;\n",
       "    }\n",
       "</style>\n",
       "<table border=\"1\" class=\"dataframe\">\n",
       "  <thead>\n",
       "    <tr style=\"text-align: right;\">\n",
       "      <th></th>\n",
       "      <th>direito</th>\n",
       "      <th>politica</th>\n",
       "      <th>estatistica</th>\n",
       "    </tr>\n",
       "    <tr>\n",
       "      <th>secao</th>\n",
       "      <th></th>\n",
       "      <th></th>\n",
       "      <th></th>\n",
       "    </tr>\n",
       "  </thead>\n",
       "  <tbody>\n",
       "    <tr>\n",
       "      <th>pessoal</th>\n",
       "      <td>9.0</td>\n",
       "      <td>7.500000</td>\n",
       "      <td>8.714286</td>\n",
       "    </tr>\n",
       "    <tr>\n",
       "      <th>tecnica</th>\n",
       "      <td>9.0</td>\n",
       "      <td>7.214286</td>\n",
       "      <td>8.285714</td>\n",
       "    </tr>\n",
       "    <tr>\n",
       "      <th>vendas</th>\n",
       "      <td>9.0</td>\n",
       "      <td>7.227273</td>\n",
       "      <td>7.272727</td>\n",
       "    </tr>\n",
       "  </tbody>\n",
       "</table>\n",
       "</div>"
      ],
      "text/plain": [
       "         direito  politica  estatistica\n",
       "secao                                  \n",
       "pessoal      9.0  7.500000     8.714286\n",
       "tecnica      9.0  7.214286     8.285714\n",
       "vendas       9.0  7.227273     7.272727"
      ]
     },
     "execution_count": 13,
     "metadata": {},
     "output_type": "execute_result"
    }
   ],
   "source": [
    "data = {\n",
    "    'secao': ['pessoal', 'pessoal', 'pessoal', 'pessoal', 'pessoal', 'pessoal', 'pessoal', 'tecnica', 'tecnica', 'tecnica', 'tecnica', 'tecnica', 'tecnica', 'tecnica', 'vendas', 'vendas', 'vendas', 'vendas', 'vendas', 'vendas', 'vendas', 'vendas', 'vendas', 'vendas', 'vendas'],\n",
    "    'direito': [9, 9, 9, 9, 9, 9, 9, 9, 9, 9, 9, 9, 9, 9, 9, 9, 9, 9, 9, 9, 9, 9, 9, 9, 9],\n",
    "    'politica': [9.0, 6.5, 9.0, 6.0, 6.5, 6.5, 9.0, 6.0, 9.0, 9.0, 7.0, 5.5, 6.0, 8.0, 7.0, 9.0, 10.0, 5.5, 7.0, 6.0, 6.5, 6.0, 9.0, 6.5, 7.0],\n",
    "    'estatistica': [9, 9, 8, 8, 9, 10, 8, 8, 9, 8, 10, 7, 7, 9, 8, 7, 8, 9, 2, 7, 7, 8, 9, 8, 7]}\n",
    "\n",
    "\n",
    "df = pd.DataFrame(data)\n",
    "df['direito'] = df['direito'].astype(float)\n",
    "df['politica'] = df['politica'].astype(float)\n",
    "df['estatistica'] = df['estatistica'].astype(float)\n",
    "\n",
    "df[['direito', 'politica', 'estatistica']].describe()\n",
    "\n",
    "fig, ax = plt.subplots()\n",
    "ax.boxplot([df['direito'], df['politica'], df['estatistica']])\n",
    "\n",
    "ax.set_xticklabels(['Direito', 'Política', 'Estatística'])\n",
    "\n",
    "\n",
    "ax.set_title('Distribuição das Variáveis')\n",
    "\n",
    "plt.show()\n",
    "\n",
    "medias = df.groupby('secao').mean()\n",
    "\n",
    "medias"
   ]
  },
  {
   "cell_type": "code",
   "execution_count": 14,
   "metadata": {},
   "outputs": [
    {
     "data": {
      "image/png": "[encoded data removed]",
      "text/plain": [
       "<Figure size 640x480 with 1 Axes>"
      ]
     },
     "metadata": {},
     "output_type": "display_data"
    },
    {
     "data": {
      "text/plain": [
       "0.9891899348345198"
      ]
     },
     "execution_count": 14,
     "metadata": {},
     "output_type": "execute_result"
    }
   ],
   "source": [
    "data = {'Estado': ['Amazonas', 'Pará', 'Maranhão', 'Piauí', 'Ceará', 'Rio Grande do Norte',\n",
    "                   'Paraíba', 'Pernambuco', 'Alagoas', 'Sergipe', 'Bahia', 'Minas Gerais',\n",
    "                   'Espírito Santo', 'Rio de Janeiro', 'São Paulo', 'Paraná', 'Santa Catarina',\n",
    "                   'Rio Grande do Sul', 'Mato Grosso do Sul', 'Mato Grosso', 'Goiás', 'Distrito Federal'],\n",
    "        'V': [333, 2655, 71, 882, 8874, 5989, 1469, 9134, 924, 951, 2234, 17089, 2653,\n",
    "              39503, 172229, 4364, 34335, 64851, 59, 32, 1196, 99],\n",
    "        'P': [527, 2035, 271, 1290, 13776, 9816, 2499, 12720, 1031, 961, 4154, 30002, 4402,\n",
    "              49256, 195756, 7619, 28949, 91813, 222, 83, 2415, 239]}\n",
    "\n",
    "df = pd.DataFrame(data)\n",
    "df['log10(V)'] = np.log10(df['V'])\n",
    "df['log10(P)'] = np.log10(df['P'])\n",
    "\n",
    "plt.scatter(df['log10(V)'],df['log10(P)'])\n",
    "plt.xlabel('log(V)')\n",
    "plt.ylabel('log(P)')\n",
    "plt.title('Gráfico de dispersão de log(V) e log(P)')\n",
    "plt.show()\n",
    "\n",
    "corr = np.corrcoef(df['log10(V)'],df['log10(P)'])[0,1]\n",
    "\n",
    "corr\n"
   ]
  },
  {
   "cell_type": "code",
   "execution_count": 15,
   "id": "13485536",
   "metadata": {},
   "outputs": [
    {
     "data": {
      "image/png": "[encoded data removed]",
      "text/plain": [
       "<Figure size 640x480 with 1 Axes>"
      ]
     },
     "metadata": {},
     "output_type": "display_data"
    },
    {
     "name": "stdout",
     "output_type": "stream",
     "text": [
      "Relação negativa com grande dispersão\n"
     ]
    },
    {
     "data": {
      "text/plain": [
       "0.8477756211655205"
      ]
     },
     "execution_count": 15,
     "metadata": {},
     "output_type": "execute_result"
    }
   ],
   "source": [
    "dados = {'x' : [3.41, 3.52, 3.57, 3.61, 3.43, 3.59, 3.62, 3.56, 3.35, 3.47,     3.53, 3.33, 3.54, 3.22, 3.49, 3.25, 3.79, 3.64, 3.67, 3.72],\n",
    "'y' : [8.20, 7.10, 7.30, 8.60, 6.80, 7.60, 8.50, 6.90, 5.40, 6.20,     7.90, 5.80, 9.10, 4.50, 6.30, 5.20, 9.50, 8.90, 7.40, 8.70]}\n",
    "\n",
    "df = pd.DataFrame(dados)\n",
    "\n",
    "plt.scatter(df['x'],df['y'])\n",
    "plt.xlabel('X')\n",
    "plt.ylabel('Y')\n",
    "plt.show()\n",
    "print(\"Relação negativa com grande dispersão\")\n",
    "\n",
    "corr = np.corrcoef(df['x'],df['y'])[0,1]\n",
    "corr"
   ]
  },
  {
   "cell_type": "code",
   "execution_count": 16,
   "id": "42a22679",
   "metadata": {},
   "outputs": [
    {
     "name": "stdout",
     "output_type": "stream",
     "text": [
      "9.12%\n"
     ]
    }
   ],
   "source": [
    "media = 8\n",
    "desvio_padrao = 1.5\n",
    "limite_regulatorio = 10\n",
    "\n",
    "probabilidade = 1 - cstats.norm.cdf(limite_regulatorio, media, desvio_padrao)\n",
    "print(f'{probabilidade*100:.2f}%')"
   ]
  },
  {
   "cell_type": "code",
   "execution_count": 17,
   "id": "a23fcd63",
   "metadata": {},
   "outputs": [
    {
     "name": "stdout",
     "output_type": "stream",
     "text": [
      "13 mAh\n",
      "0.0668%\n",
      "\n",
      "Entre 9 e 11 mAh\n",
      "0.3829%\n"
     ]
    }
   ],
   "source": [
    "print(\"13 mAh\")\n",
    "prob1 = 1 - cstats.norm.cdf(13, loc=10, scale=2)\n",
    "print(f\"{prob1:.4f}%\")\n",
    "\n",
    "print(\"\\nEntre 9 e 11 mAh\")\n",
    "prob2 = cstats.norm.cdf(11, loc=10, scale=2) - cstats.norm.cdf(9, loc=10, scale=2)\n",
    "print(f\"{prob2:.4f}%\")"
   ]
  },
  {
   "cell_type": "code",
   "execution_count": 18,
   "id": "ec6e6299",
   "metadata": {},
   "outputs": [
    {
     "name": "stdout",
     "output_type": "stream",
     "text": [
      "Menos de 170.000 Km\n",
      "1.00%\n",
      "\n",
      "Entre 140.000 Km e 165.000 Km\n",
      "0.0000%\n"
     ]
    }
   ],
   "source": [
    "\n",
    "probabilidade = cstats.norm.cdf(170000, loc=media, scale=desvio_padrao)\n",
    "print(\"Menos de 170.000 Km\")\n",
    "print(f'{probabilidade:.2f}%')\n",
    "print(\"\\nEntre 140.000 Km e 165.000 Km\")\n",
    "prob2 = cstats.norm.cdf(140000, loc=10, scale=2) - cstats.norm.cdf(165000, loc=10, scale=2)\n",
    "print(f\"{prob2:.4f}%\")\n"
   ]
  }
 ],
 "metadata": {
  "kernelspec": {
   "display_name": "Python 3 (ipykernel)",
   "language": "python",
   "name": "python3"
  },
  "language_info": {
   "codemirror_mode": {
    "name": "ipython",
    "version": 3
   },
   "file_extension": ".py",
   "mimetype": "text/x-python",
   "name": "python",
   "nbconvert_exporter": "python",
   "pygments_lexer": "ipython3",
   "version": "3.9.6"
  }
 },
 "nbformat": 4,
 "nbformat_minor": 5
}
